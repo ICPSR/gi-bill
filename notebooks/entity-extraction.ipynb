{
 "cells": [
  {
   "cell_type": "markdown",
   "id": "6519493c",
   "metadata": {},
   "source": [
    "# Entity extraction\n",
    "Run spaCy NER out of the box on OCR text from card scans. Compare the extracted entities to RegEx and LayoutParser.\n",
    "\n",
    "Mappings - expected entity type for each column\n",
    "- AGENCY :: `ORG`\n",
    "- AMOUNT :: `MONEY`\n",
    "- LOCATION :: `LOC`\n",
    "- NAME :: `PERSON`"
   ]
  },
  {
   "cell_type": "code",
   "execution_count": 1,
   "id": "74165037",
   "metadata": {},
   "outputs": [],
   "source": [
    "import os\n",
    "import glob\n",
    "import re\n",
    "import pandas as pd\n",
    "import spacy\n",
    "from spacy import displacy\n",
    "import en_core_web_sm\n",
    "from pandarallel import pandarallel"
   ]
  },
  {
   "cell_type": "code",
   "execution_count": 2,
   "id": "bf48088f",
   "metadata": {},
   "outputs": [
    {
     "name": "stderr",
     "output_type": "stream",
     "text": [
      "/home/slafia/.local/lib/python3.9/site-packages/spacy/language.py:1895: UserWarning: [W123] Argument disable with value [] is used instead of ['senter'] as specified in the config. Be aware that this might affect other components in your pipeline.\n",
      "  warnings.warn(\n"
     ]
    }
   ],
   "source": [
    "nlp = en_core_web_sm.load()"
   ]
  },
  {
   "cell_type": "code",
   "execution_count": 3,
   "id": "39328b93",
   "metadata": {},
   "outputs": [
    {
     "name": "stdout",
     "output_type": "stream",
     "text": [
      "INFO: Pandarallel will run on 36 workers.\n",
      "INFO: Pandarallel will use Memory file system to transfer data between the main process and workers.\n"
     ]
    }
   ],
   "source": [
    "pandarallel.initialize(progress_bar=True)"
   ]
  },
  {
   "cell_type": "markdown",
   "id": "8857b480",
   "metadata": {},
   "source": [
    "Get the text from the file directory into a dataframe"
   ]
  },
  {
   "cell_type": "code",
   "execution_count": 4,
   "id": "14dcd89e",
   "metadata": {},
   "outputs": [
    {
     "name": "stdout",
     "output_type": "stream",
     "text": [
      "CPU times: user 490 ms, sys: 703 ms, total: 1.19 s\n",
      "Wall time: 1min 13s\n"
     ]
    },
    {
     "data": {
      "text/html": [
       "<div>\n",
       "<style scoped>\n",
       "    .dataframe tbody tr th:only-of-type {\n",
       "        vertical-align: middle;\n",
       "    }\n",
       "\n",
       "    .dataframe tbody tr th {\n",
       "        vertical-align: top;\n",
       "    }\n",
       "\n",
       "    .dataframe thead th {\n",
       "        text-align: right;\n",
       "    }\n",
       "</style>\n",
       "<table border=\"1\" class=\"dataframe\">\n",
       "  <thead>\n",
       "    <tr style=\"text-align: right;\">\n",
       "      <th></th>\n",
       "      <th>file_name</th>\n",
       "      <th>file_content</th>\n",
       "    </tr>\n",
       "  </thead>\n",
       "  <tbody>\n",
       "    <tr>\n",
       "      <th>0</th>\n",
       "      <td>783095-01-0001.txt</td>\n",
       "      <td>Aaron, Samuel H. and Pearl C. LHG~L0124 Wichit...</td>\n",
       "    </tr>\n",
       "    <tr>\n",
       "      <th>1</th>\n",
       "      <td>783095-01-0002.txt</td>\n",
       "      <td></td>\n",
       "    </tr>\n",
       "    <tr>\n",
       "      <th>2</th>\n",
       "      <td>783095-01-0003.txt</td>\n",
       "      <td>Abbenga, Arnold N, &amp; Geraldine LH-31228 Detroi...</td>\n",
       "    </tr>\n",
       "    <tr>\n",
       "      <th>3</th>\n",
       "      <td>783095-01-0004.txt</td>\n",
       "      <td>Abbey, Leonard Ray and Barbara Joan, LE-6746 T...</td>\n",
       "    </tr>\n",
       "    <tr>\n",
       "      <th>4</th>\n",
       "      <td>783095-01-0005.txt</td>\n",
       "      <td>Abbey, Newton Warren Atlanta, Ga.  Roy D. Werr...</td>\n",
       "    </tr>\n",
       "    <tr>\n",
       "      <th>...</th>\n",
       "      <td>...</td>\n",
       "      <td>...</td>\n",
       "    </tr>\n",
       "    <tr>\n",
       "      <th>25739</th>\n",
       "      <td>783095-23-0261.txt</td>\n",
       "      <td>Zvolanek, Harry &amp; Ruby M. LHG-9598 Wichita, Ka...</td>\n",
       "    </tr>\n",
       "    <tr>\n",
       "      <th>25740</th>\n",
       "      <td>783095-23-0262.txt</td>\n",
       "      <td>Zwijac, Walter C, &amp; Sara A, LH-3293 Hammond, I...</td>\n",
       "    </tr>\n",
       "    <tr>\n",
       "      <th>25741</th>\n",
       "      <td>783095-23-0263.txt</td>\n",
       "      <td>Zwinklis, Victor C. LHG-7715 Baltimore, Md. $7...</td>\n",
       "    </tr>\n",
       "    <tr>\n",
       "      <th>25742</th>\n",
       "      <td>783095-23-0264.txt</td>\n",
       "      <td>Zygler, Francis H, &amp; Margaret T. CC-162 Perth ...</td>\n",
       "    </tr>\n",
       "    <tr>\n",
       "      <th>25743</th>\n",
       "      <td>783095-23-0265.txt</td>\n",
       "      <td>Zygner, Aloysius D, &amp; Mary LH-33945 Van Dyke, ...</td>\n",
       "    </tr>\n",
       "  </tbody>\n",
       "</table>\n",
       "<p>25744 rows × 2 columns</p>\n",
       "</div>"
      ],
      "text/plain": [
       "                file_name                                       file_content\n",
       "0      783095-01-0001.txt  Aaron, Samuel H. and Pearl C. LHG~L0124 Wichit...\n",
       "1      783095-01-0002.txt                                                   \n",
       "2      783095-01-0003.txt  Abbenga, Arnold N, & Geraldine LH-31228 Detroi...\n",
       "3      783095-01-0004.txt  Abbey, Leonard Ray and Barbara Joan, LE-6746 T...\n",
       "4      783095-01-0005.txt  Abbey, Newton Warren Atlanta, Ga.  Roy D. Werr...\n",
       "...                   ...                                                ...\n",
       "25739  783095-23-0261.txt  Zvolanek, Harry & Ruby M. LHG-9598 Wichita, Ka...\n",
       "25740  783095-23-0262.txt  Zwijac, Walter C, & Sara A, LH-3293 Hammond, I...\n",
       "25741  783095-23-0263.txt  Zwinklis, Victor C. LHG-7715 Baltimore, Md. $7...\n",
       "25742  783095-23-0264.txt  Zygler, Francis H, & Margaret T. CC-162 Perth ...\n",
       "25743  783095-23-0265.txt  Zygner, Aloysius D, & Mary LH-33945 Van Dyke, ...\n",
       "\n",
       "[25744 rows x 2 columns]"
      ]
     },
     "execution_count": 4,
     "metadata": {},
     "output_type": "execute_result"
    }
   ],
   "source": [
    "%%time\n",
    "\n",
    "txt_files = sorted(glob.glob('/nfs/turbo/isr-jtalexnonsen/tesseract_txt/'+'/*.txt'))\n",
    "# txt_files = txt_files[:10] # subset for testing\n",
    "\n",
    "name_list = []\n",
    "content_list = []\n",
    "\n",
    "for file in txt_files:\n",
    "    name = os.path.basename(file)\n",
    "    name_list.append(name)\n",
    "    with open(file) as f:\n",
    "        content = f.read().replace('\\n',' ') # replace new line character with a space\n",
    "        content_list.append(content)\n",
    "           \n",
    "df = pd.DataFrame()\n",
    "df['file_name'] = name_list\n",
    "df['file_content'] = content_list\n",
    "df"
   ]
  },
  {
   "cell_type": "code",
   "execution_count": 5,
   "id": "e2a7c060",
   "metadata": {
    "scrolled": false
   },
   "outputs": [],
   "source": [
    "def extract_org(text):\n",
    "    doc = nlp(text)\n",
    "    results = [(ent.text) for ent in doc.ents if ent.label_ == 'ORG']\n",
    "    return results\n",
    "\n",
    "def extract_money(text):\n",
    "    doc = nlp(text)\n",
    "    results = [(ent.text) for ent in doc.ents if ent.label_ == 'MONEY']\n",
    "    return results\n",
    "\n",
    "def extract_loc(text):\n",
    "    doc = nlp(text)\n",
    "    results = [(ent.text) for ent in doc.ents if ent.label_ == 'LOC']\n",
    "    return results\n",
    "\n",
    "def extract_person(text):\n",
    "    doc = nlp(text)\n",
    "    results = [(ent.text) for ent in doc.ents if ent.label_ == 'PERSON']\n",
    "    return results"
   ]
  },
  {
   "cell_type": "code",
   "execution_count": 6,
   "id": "570e263b",
   "metadata": {},
   "outputs": [
    {
     "data": {
      "application/vnd.jupyter.widget-view+json": {
       "model_id": "184ee6f0ec194e79a3d7836685f96261",
       "version_major": 2,
       "version_minor": 0
      },
      "text/plain": [
       "VBox(children=(HBox(children=(IntProgress(value=0, description='0.00%', max=716), Label(value='0 / 716'))), HB…"
      ]
     },
     "metadata": {},
     "output_type": "display_data"
    },
    {
     "name": "stderr",
     "output_type": "stream",
     "text": [
      "IOPub message rate exceeded.\n",
      "The notebook server will temporarily stop sending output\n",
      "to the client in order to avoid crashing it.\n",
      "To change this limit, set the config variable\n",
      "`--NotebookApp.iopub_msg_rate_limit`.\n",
      "\n",
      "Current values:\n",
      "NotebookApp.iopub_msg_rate_limit=1000.0 (msgs/sec)\n",
      "NotebookApp.rate_limit_window=3.0 (secs)\n",
      "\n",
      "IOPub message rate exceeded.\n",
      "The notebook server will temporarily stop sending output\n",
      "to the client in order to avoid crashing it.\n",
      "To change this limit, set the config variable\n",
      "`--NotebookApp.iopub_msg_rate_limit`.\n",
      "\n",
      "Current values:\n",
      "NotebookApp.iopub_msg_rate_limit=1000.0 (msgs/sec)\n",
      "NotebookApp.rate_limit_window=3.0 (secs)\n",
      "\n",
      "IOPub message rate exceeded.\n",
      "The notebook server will temporarily stop sending output\n",
      "to the client in order to avoid crashing it.\n",
      "To change this limit, set the config variable\n",
      "`--NotebookApp.iopub_msg_rate_limit`.\n",
      "\n",
      "Current values:\n",
      "NotebookApp.iopub_msg_rate_limit=1000.0 (msgs/sec)\n",
      "NotebookApp.rate_limit_window=3.0 (secs)\n",
      "\n",
      "IOPub message rate exceeded.\n",
      "The notebook server will temporarily stop sending output\n",
      "to the client in order to avoid crashing it.\n",
      "To change this limit, set the config variable\n",
      "`--NotebookApp.iopub_msg_rate_limit`.\n",
      "\n",
      "Current values:\n",
      "NotebookApp.iopub_msg_rate_limit=1000.0 (msgs/sec)\n",
      "NotebookApp.rate_limit_window=3.0 (secs)\n",
      "\n",
      "IOPub message rate exceeded.\n",
      "The notebook server will temporarily stop sending output\n",
      "to the client in order to avoid crashing it.\n",
      "To change this limit, set the config variable\n",
      "`--NotebookApp.iopub_msg_rate_limit`.\n",
      "\n",
      "Current values:\n",
      "NotebookApp.iopub_msg_rate_limit=1000.0 (msgs/sec)\n",
      "NotebookApp.rate_limit_window=3.0 (secs)\n",
      "\n",
      "IOPub message rate exceeded.\n",
      "The notebook server will temporarily stop sending output\n",
      "to the client in order to avoid crashing it.\n",
      "To change this limit, set the config variable\n",
      "`--NotebookApp.iopub_msg_rate_limit`.\n",
      "\n",
      "Current values:\n",
      "NotebookApp.iopub_msg_rate_limit=1000.0 (msgs/sec)\n",
      "NotebookApp.rate_limit_window=3.0 (secs)\n",
      "\n"
     ]
    }
   ],
   "source": [
    "df['AGENCY'] = df['file_content'].parallel_apply(extract_org)"
   ]
  },
  {
   "cell_type": "code",
   "execution_count": 7,
   "id": "8304695d",
   "metadata": {},
   "outputs": [
    {
     "data": {
      "application/vnd.jupyter.widget-view+json": {
       "model_id": "65407400311342f0bff521968bb1971d",
       "version_major": 2,
       "version_minor": 0
      },
      "text/plain": [
       "VBox(children=(HBox(children=(IntProgress(value=0, description='0.00%', max=716), Label(value='0 / 716'))), HB…"
      ]
     },
     "metadata": {},
     "output_type": "display_data"
    },
    {
     "name": "stderr",
     "output_type": "stream",
     "text": [
      "IOPub message rate exceeded.\n",
      "The notebook server will temporarily stop sending output\n",
      "to the client in order to avoid crashing it.\n",
      "To change this limit, set the config variable\n",
      "`--NotebookApp.iopub_msg_rate_limit`.\n",
      "\n",
      "Current values:\n",
      "NotebookApp.iopub_msg_rate_limit=1000.0 (msgs/sec)\n",
      "NotebookApp.rate_limit_window=3.0 (secs)\n",
      "\n",
      "IOPub message rate exceeded.\n",
      "The notebook server will temporarily stop sending output\n",
      "to the client in order to avoid crashing it.\n",
      "To change this limit, set the config variable\n",
      "`--NotebookApp.iopub_msg_rate_limit`.\n",
      "\n",
      "Current values:\n",
      "NotebookApp.iopub_msg_rate_limit=1000.0 (msgs/sec)\n",
      "NotebookApp.rate_limit_window=3.0 (secs)\n",
      "\n",
      "IOPub message rate exceeded.\n",
      "The notebook server will temporarily stop sending output\n",
      "to the client in order to avoid crashing it.\n",
      "To change this limit, set the config variable\n",
      "`--NotebookApp.iopub_msg_rate_limit`.\n",
      "\n",
      "Current values:\n",
      "NotebookApp.iopub_msg_rate_limit=1000.0 (msgs/sec)\n",
      "NotebookApp.rate_limit_window=3.0 (secs)\n",
      "\n",
      "IOPub message rate exceeded.\n",
      "The notebook server will temporarily stop sending output\n",
      "to the client in order to avoid crashing it.\n",
      "To change this limit, set the config variable\n",
      "`--NotebookApp.iopub_msg_rate_limit`.\n",
      "\n",
      "Current values:\n",
      "NotebookApp.iopub_msg_rate_limit=1000.0 (msgs/sec)\n",
      "NotebookApp.rate_limit_window=3.0 (secs)\n",
      "\n",
      "IOPub message rate exceeded.\n",
      "The notebook server will temporarily stop sending output\n",
      "to the client in order to avoid crashing it.\n",
      "To change this limit, set the config variable\n",
      "`--NotebookApp.iopub_msg_rate_limit`.\n",
      "\n",
      "Current values:\n",
      "NotebookApp.iopub_msg_rate_limit=1000.0 (msgs/sec)\n",
      "NotebookApp.rate_limit_window=3.0 (secs)\n",
      "\n",
      "IOPub message rate exceeded.\n",
      "The notebook server will temporarily stop sending output\n",
      "to the client in order to avoid crashing it.\n",
      "To change this limit, set the config variable\n",
      "`--NotebookApp.iopub_msg_rate_limit`.\n",
      "\n",
      "Current values:\n",
      "NotebookApp.iopub_msg_rate_limit=1000.0 (msgs/sec)\n",
      "NotebookApp.rate_limit_window=3.0 (secs)\n",
      "\n"
     ]
    }
   ],
   "source": [
    "df['AMOUNT'] = df['file_content'].parallel_apply(extract_money)"
   ]
  },
  {
   "cell_type": "code",
   "execution_count": 8,
   "id": "40f8ba57",
   "metadata": {},
   "outputs": [
    {
     "data": {
      "application/vnd.jupyter.widget-view+json": {
       "model_id": "54a2f0a792d4437a90e942e2985c8368",
       "version_major": 2,
       "version_minor": 0
      },
      "text/plain": [
       "VBox(children=(HBox(children=(IntProgress(value=0, description='0.00%', max=716), Label(value='0 / 716'))), HB…"
      ]
     },
     "metadata": {},
     "output_type": "display_data"
    },
    {
     "name": "stderr",
     "output_type": "stream",
     "text": [
      "IOPub message rate exceeded.\n",
      "The notebook server will temporarily stop sending output\n",
      "to the client in order to avoid crashing it.\n",
      "To change this limit, set the config variable\n",
      "`--NotebookApp.iopub_msg_rate_limit`.\n",
      "\n",
      "Current values:\n",
      "NotebookApp.iopub_msg_rate_limit=1000.0 (msgs/sec)\n",
      "NotebookApp.rate_limit_window=3.0 (secs)\n",
      "\n",
      "IOPub message rate exceeded.\n",
      "The notebook server will temporarily stop sending output\n",
      "to the client in order to avoid crashing it.\n",
      "To change this limit, set the config variable\n",
      "`--NotebookApp.iopub_msg_rate_limit`.\n",
      "\n",
      "Current values:\n",
      "NotebookApp.iopub_msg_rate_limit=1000.0 (msgs/sec)\n",
      "NotebookApp.rate_limit_window=3.0 (secs)\n",
      "\n",
      "IOPub message rate exceeded.\n",
      "The notebook server will temporarily stop sending output\n",
      "to the client in order to avoid crashing it.\n",
      "To change this limit, set the config variable\n",
      "`--NotebookApp.iopub_msg_rate_limit`.\n",
      "\n",
      "Current values:\n",
      "NotebookApp.iopub_msg_rate_limit=1000.0 (msgs/sec)\n",
      "NotebookApp.rate_limit_window=3.0 (secs)\n",
      "\n",
      "IOPub message rate exceeded.\n",
      "The notebook server will temporarily stop sending output\n",
      "to the client in order to avoid crashing it.\n",
      "To change this limit, set the config variable\n",
      "`--NotebookApp.iopub_msg_rate_limit`.\n",
      "\n",
      "Current values:\n",
      "NotebookApp.iopub_msg_rate_limit=1000.0 (msgs/sec)\n",
      "NotebookApp.rate_limit_window=3.0 (secs)\n",
      "\n",
      "IOPub message rate exceeded.\n",
      "The notebook server will temporarily stop sending output\n",
      "to the client in order to avoid crashing it.\n",
      "To change this limit, set the config variable\n",
      "`--NotebookApp.iopub_msg_rate_limit`.\n",
      "\n",
      "Current values:\n",
      "NotebookApp.iopub_msg_rate_limit=1000.0 (msgs/sec)\n",
      "NotebookApp.rate_limit_window=3.0 (secs)\n",
      "\n",
      "IOPub message rate exceeded.\n",
      "The notebook server will temporarily stop sending output\n",
      "to the client in order to avoid crashing it.\n",
      "To change this limit, set the config variable\n",
      "`--NotebookApp.iopub_msg_rate_limit`.\n",
      "\n",
      "Current values:\n",
      "NotebookApp.iopub_msg_rate_limit=1000.0 (msgs/sec)\n",
      "NotebookApp.rate_limit_window=3.0 (secs)\n",
      "\n"
     ]
    }
   ],
   "source": [
    "df['LOCATION'] = df['file_content'].parallel_apply(extract_loc)"
   ]
  },
  {
   "cell_type": "code",
   "execution_count": 9,
   "id": "f9d0847f",
   "metadata": {},
   "outputs": [
    {
     "data": {
      "application/vnd.jupyter.widget-view+json": {
       "model_id": "447b4b1575dc482aafb875595a448b69",
       "version_major": 2,
       "version_minor": 0
      },
      "text/plain": [
       "VBox(children=(HBox(children=(IntProgress(value=0, description='0.00%', max=716), Label(value='0 / 716'))), HB…"
      ]
     },
     "metadata": {},
     "output_type": "display_data"
    },
    {
     "name": "stderr",
     "output_type": "stream",
     "text": [
      "IOPub message rate exceeded.\n",
      "The notebook server will temporarily stop sending output\n",
      "to the client in order to avoid crashing it.\n",
      "To change this limit, set the config variable\n",
      "`--NotebookApp.iopub_msg_rate_limit`.\n",
      "\n",
      "Current values:\n",
      "NotebookApp.iopub_msg_rate_limit=1000.0 (msgs/sec)\n",
      "NotebookApp.rate_limit_window=3.0 (secs)\n",
      "\n",
      "IOPub message rate exceeded.\n",
      "The notebook server will temporarily stop sending output\n",
      "to the client in order to avoid crashing it.\n",
      "To change this limit, set the config variable\n",
      "`--NotebookApp.iopub_msg_rate_limit`.\n",
      "\n",
      "Current values:\n",
      "NotebookApp.iopub_msg_rate_limit=1000.0 (msgs/sec)\n",
      "NotebookApp.rate_limit_window=3.0 (secs)\n",
      "\n",
      "IOPub message rate exceeded.\n",
      "The notebook server will temporarily stop sending output\n",
      "to the client in order to avoid crashing it.\n",
      "To change this limit, set the config variable\n",
      "`--NotebookApp.iopub_msg_rate_limit`.\n",
      "\n",
      "Current values:\n",
      "NotebookApp.iopub_msg_rate_limit=1000.0 (msgs/sec)\n",
      "NotebookApp.rate_limit_window=3.0 (secs)\n",
      "\n",
      "IOPub message rate exceeded.\n",
      "The notebook server will temporarily stop sending output\n",
      "to the client in order to avoid crashing it.\n",
      "To change this limit, set the config variable\n",
      "`--NotebookApp.iopub_msg_rate_limit`.\n",
      "\n",
      "Current values:\n",
      "NotebookApp.iopub_msg_rate_limit=1000.0 (msgs/sec)\n",
      "NotebookApp.rate_limit_window=3.0 (secs)\n",
      "\n",
      "IOPub message rate exceeded.\n",
      "The notebook server will temporarily stop sending output\n",
      "to the client in order to avoid crashing it.\n",
      "To change this limit, set the config variable\n",
      "`--NotebookApp.iopub_msg_rate_limit`.\n",
      "\n",
      "Current values:\n",
      "NotebookApp.iopub_msg_rate_limit=1000.0 (msgs/sec)\n",
      "NotebookApp.rate_limit_window=3.0 (secs)\n",
      "\n",
      "IOPub message rate exceeded.\n",
      "The notebook server will temporarily stop sending output\n",
      "to the client in order to avoid crashing it.\n",
      "To change this limit, set the config variable\n",
      "`--NotebookApp.iopub_msg_rate_limit`.\n",
      "\n",
      "Current values:\n",
      "NotebookApp.iopub_msg_rate_limit=1000.0 (msgs/sec)\n",
      "NotebookApp.rate_limit_window=3.0 (secs)\n",
      "\n",
      "IOPub message rate exceeded.\n",
      "The notebook server will temporarily stop sending output\n",
      "to the client in order to avoid crashing it.\n",
      "To change this limit, set the config variable\n",
      "`--NotebookApp.iopub_msg_rate_limit`.\n",
      "\n",
      "Current values:\n",
      "NotebookApp.iopub_msg_rate_limit=1000.0 (msgs/sec)\n",
      "NotebookApp.rate_limit_window=3.0 (secs)\n",
      "\n",
      "IOPub message rate exceeded.\n",
      "The notebook server will temporarily stop sending output\n",
      "to the client in order to avoid crashing it.\n",
      "To change this limit, set the config variable\n",
      "`--NotebookApp.iopub_msg_rate_limit`.\n",
      "\n",
      "Current values:\n",
      "NotebookApp.iopub_msg_rate_limit=1000.0 (msgs/sec)\n",
      "NotebookApp.rate_limit_window=3.0 (secs)\n",
      "\n",
      "IOPub message rate exceeded.\n",
      "The notebook server will temporarily stop sending output\n",
      "to the client in order to avoid crashing it.\n",
      "To change this limit, set the config variable\n",
      "`--NotebookApp.iopub_msg_rate_limit`.\n",
      "\n",
      "Current values:\n",
      "NotebookApp.iopub_msg_rate_limit=1000.0 (msgs/sec)\n",
      "NotebookApp.rate_limit_window=3.0 (secs)\n",
      "\n"
     ]
    }
   ],
   "source": [
    "df['NAME'] = df['file_content'].parallel_apply(extract_person)"
   ]
  },
  {
   "cell_type": "code",
   "execution_count": 10,
   "id": "f56924d5",
   "metadata": {},
   "outputs": [
    {
     "data": {
      "text/html": [
       "<div>\n",
       "<style scoped>\n",
       "    .dataframe tbody tr th:only-of-type {\n",
       "        vertical-align: middle;\n",
       "    }\n",
       "\n",
       "    .dataframe tbody tr th {\n",
       "        vertical-align: top;\n",
       "    }\n",
       "\n",
       "    .dataframe thead th {\n",
       "        text-align: right;\n",
       "    }\n",
       "</style>\n",
       "<table border=\"1\" class=\"dataframe\">\n",
       "  <thead>\n",
       "    <tr style=\"text-align: right;\">\n",
       "      <th></th>\n",
       "      <th>file_name</th>\n",
       "      <th>file_content</th>\n",
       "      <th>AGENCY</th>\n",
       "      <th>AMOUNT</th>\n",
       "      <th>LOCATION</th>\n",
       "      <th>NAME</th>\n",
       "    </tr>\n",
       "  </thead>\n",
       "  <tbody>\n",
       "    <tr>\n",
       "      <th>0</th>\n",
       "      <td>783095-01-0001.txt</td>\n",
       "      <td>Aaron, Samuel H. and Pearl C. LHG~L0124 Wichit...</td>\n",
       "      <td>[Kansas City Agency, The Reserve Building &amp; Lo...</td>\n",
       "      <td>[9,000]</td>\n",
       "      <td>[]</td>\n",
       "      <td>[Aaron, Samuel H., Pearl C. LHG~, L0124 Wichita]</td>\n",
       "    </tr>\n",
       "    <tr>\n",
       "      <th>1</th>\n",
       "      <td>783095-01-0002.txt</td>\n",
       "      <td></td>\n",
       "      <td>[]</td>\n",
       "      <td>[]</td>\n",
       "      <td>[]</td>\n",
       "      <td>[]</td>\n",
       "    </tr>\n",
       "    <tr>\n",
       "      <th>2</th>\n",
       "      <td>783095-01-0003.txt</td>\n",
       "      <td>Abbenga, Arnold N, &amp; Geraldine LH-31228 Detroi...</td>\n",
       "      <td>[Abbenga, Arnold N, &amp; Geraldine LH-31228 Detro...</td>\n",
       "      <td>[4,100]</td>\n",
       "      <td>[]</td>\n",
       "      <td>[James T. Barnes &amp; Company]</td>\n",
       "    </tr>\n",
       "    <tr>\n",
       "      <th>3</th>\n",
       "      <td>783095-01-0004.txt</td>\n",
       "      <td>Abbey, Leonard Ray and Barbara Joan, LE-6746 T...</td>\n",
       "      <td>[]</td>\n",
       "      <td>[8,000]</td>\n",
       "      <td>[]</td>\n",
       "      <td>[Abbey, Leonard Ray, Barbara Joan, W. R. Johns...</td>\n",
       "    </tr>\n",
       "    <tr>\n",
       "      <th>4</th>\n",
       "      <td>783095-01-0005.txt</td>\n",
       "      <td>Abbey, Newton Warren Atlanta, Ga.  Roy D. Werr...</td>\n",
       "      <td>[Newton Warren, Roy D. Werren Co.]</td>\n",
       "      <td>[CC-78 $6,500]</td>\n",
       "      <td>[]</td>\n",
       "      <td>[Abbey]</td>\n",
       "    </tr>\n",
       "    <tr>\n",
       "      <th>...</th>\n",
       "      <td>...</td>\n",
       "      <td>...</td>\n",
       "      <td>...</td>\n",
       "      <td>...</td>\n",
       "      <td>...</td>\n",
       "      <td>...</td>\n",
       "    </tr>\n",
       "    <tr>\n",
       "      <th>25739</th>\n",
       "      <td>783095-23-0261.txt</td>\n",
       "      <td>Zvolanek, Harry &amp; Ruby M. LHG-9598 Wichita, Ka...</td>\n",
       "      <td>[Harry &amp; Ruby M., Serial No, The Coffeyville L...</td>\n",
       "      <td>[3,650]</td>\n",
       "      <td>[]</td>\n",
       "      <td>[]</td>\n",
       "    </tr>\n",
       "    <tr>\n",
       "      <th>25740</th>\n",
       "      <td>783095-23-0262.txt</td>\n",
       "      <td>Zwijac, Walter C, &amp; Sara A, LH-3293 Hammond, I...</td>\n",
       "      <td>[Walter C, LH-3293 Hammond, Ind, Irvin Jacobs ...</td>\n",
       "      <td>[5,000]</td>\n",
       "      <td>[]</td>\n",
       "      <td>[]</td>\n",
       "    </tr>\n",
       "    <tr>\n",
       "      <th>25741</th>\n",
       "      <td>783095-23-0263.txt</td>\n",
       "      <td>Zwinklis, Victor C. LHG-7715 Baltimore, Md. $7...</td>\n",
       "      <td>[Victor C. LHG-7715 Baltimore, Richmond Agency...</td>\n",
       "      <td>[7]</td>\n",
       "      <td>[]</td>\n",
       "      <td>[]</td>\n",
       "    </tr>\n",
       "    <tr>\n",
       "      <th>25742</th>\n",
       "      <td>783095-23-0264.txt</td>\n",
       "      <td>Zygler, Francis H, &amp; Margaret T. CC-162 Perth ...</td>\n",
       "      <td>[New York Agency, Union County Trust Company]</td>\n",
       "      <td>[5,250]</td>\n",
       "      <td>[]</td>\n",
       "      <td>[Zygler, Francis H, Margaret T., Perth Amboy, ...</td>\n",
       "    </tr>\n",
       "    <tr>\n",
       "      <th>25743</th>\n",
       "      <td>783095-23-0265.txt</td>\n",
       "      <td>Zygner, Aloysius D, &amp; Mary LH-33945 Van Dyke, ...</td>\n",
       "      <td>[Detroit Agency, Frank Krue &amp; Company, VA]</td>\n",
       "      <td>[6,000]</td>\n",
       "      <td>[]</td>\n",
       "      <td>[Aloysius D, Mary LH-33945 Van Dyke]</td>\n",
       "    </tr>\n",
       "  </tbody>\n",
       "</table>\n",
       "<p>25744 rows × 6 columns</p>\n",
       "</div>"
      ],
      "text/plain": [
       "                file_name                                       file_content  \\\n",
       "0      783095-01-0001.txt  Aaron, Samuel H. and Pearl C. LHG~L0124 Wichit...   \n",
       "1      783095-01-0002.txt                                                      \n",
       "2      783095-01-0003.txt  Abbenga, Arnold N, & Geraldine LH-31228 Detroi...   \n",
       "3      783095-01-0004.txt  Abbey, Leonard Ray and Barbara Joan, LE-6746 T...   \n",
       "4      783095-01-0005.txt  Abbey, Newton Warren Atlanta, Ga.  Roy D. Werr...   \n",
       "...                   ...                                                ...   \n",
       "25739  783095-23-0261.txt  Zvolanek, Harry & Ruby M. LHG-9598 Wichita, Ka...   \n",
       "25740  783095-23-0262.txt  Zwijac, Walter C, & Sara A, LH-3293 Hammond, I...   \n",
       "25741  783095-23-0263.txt  Zwinklis, Victor C. LHG-7715 Baltimore, Md. $7...   \n",
       "25742  783095-23-0264.txt  Zygler, Francis H, & Margaret T. CC-162 Perth ...   \n",
       "25743  783095-23-0265.txt  Zygner, Aloysius D, & Mary LH-33945 Van Dyke, ...   \n",
       "\n",
       "                                                  AGENCY          AMOUNT  \\\n",
       "0      [Kansas City Agency, The Reserve Building & Lo...         [9,000]   \n",
       "1                                                     []              []   \n",
       "2      [Abbenga, Arnold N, & Geraldine LH-31228 Detro...         [4,100]   \n",
       "3                                                     []         [8,000]   \n",
       "4                     [Newton Warren, Roy D. Werren Co.]  [CC-78 $6,500]   \n",
       "...                                                  ...             ...   \n",
       "25739  [Harry & Ruby M., Serial No, The Coffeyville L...         [3,650]   \n",
       "25740  [Walter C, LH-3293 Hammond, Ind, Irvin Jacobs ...         [5,000]   \n",
       "25741  [Victor C. LHG-7715 Baltimore, Richmond Agency...             [7]   \n",
       "25742      [New York Agency, Union County Trust Company]         [5,250]   \n",
       "25743         [Detroit Agency, Frank Krue & Company, VA]         [6,000]   \n",
       "\n",
       "      LOCATION                                               NAME  \n",
       "0           []   [Aaron, Samuel H., Pearl C. LHG~, L0124 Wichita]  \n",
       "1           []                                                 []  \n",
       "2           []                        [James T. Barnes & Company]  \n",
       "3           []  [Abbey, Leonard Ray, Barbara Joan, W. R. Johns...  \n",
       "4           []                                            [Abbey]  \n",
       "...        ...                                                ...  \n",
       "25739       []                                                 []  \n",
       "25740       []                                                 []  \n",
       "25741       []                                                 []  \n",
       "25742       []  [Zygler, Francis H, Margaret T., Perth Amboy, ...  \n",
       "25743       []               [Aloysius D, Mary LH-33945 Van Dyke]  \n",
       "\n",
       "[25744 rows x 6 columns]"
      ]
     },
     "execution_count": 10,
     "metadata": {},
     "output_type": "execute_result"
    }
   ],
   "source": [
    "df.to_csv('/nfs/turbo/isr-jtalexnonsen/extracts/tesseract_txt_NER.csv', index=False)\n",
    "df"
   ]
  },
  {
   "cell_type": "markdown",
   "id": "bbb153e5",
   "metadata": {},
   "source": [
    "Workflow for applying NER to Layout Parser output (already structured)"
   ]
  },
  {
   "cell_type": "code",
   "execution_count": 11,
   "id": "5e126b38",
   "metadata": {},
   "outputs": [],
   "source": [
    "# df = pd.read_csv('/nfs/turbo/isr-jtalexnonsen/extracts/flat_images_all.csv')\n",
    "# df.info()\n",
    "# df = df.sample(n=20) # subset for testing"
   ]
  },
  {
   "cell_type": "markdown",
   "id": "50a2837d",
   "metadata": {},
   "source": [
    "Look up the description of a label in spaCy"
   ]
  },
  {
   "cell_type": "code",
   "execution_count": 12,
   "id": "8d11d700",
   "metadata": {},
   "outputs": [],
   "source": [
    "# spacy.explain('ORG')"
   ]
  },
  {
   "cell_type": "code",
   "execution_count": 13,
   "id": "6c26f628",
   "metadata": {},
   "outputs": [],
   "source": [
    "# def extract_entities(text):\n",
    "#     \"\"\"\n",
    "#     If a cell contains one or more entities, extract and store each as a tuple in a new column\n",
    "#     \"\"\"\n",
    "#     doc = nlp(text)\n",
    "#     for ent in doc.ents:\n",
    "#         return ent.label_,ent.text"
   ]
  },
  {
   "cell_type": "code",
   "execution_count": 14,
   "id": "9cac38c4",
   "metadata": {},
   "outputs": [],
   "source": [
    "# df['AGENCY_ORG'] = df['AGENCY'].astype(str).parallel_apply(extract_entities)"
   ]
  },
  {
   "cell_type": "code",
   "execution_count": 15,
   "id": "046282b4",
   "metadata": {},
   "outputs": [],
   "source": [
    "# df['AMOUNT_MONEY'] = df['AMOUNT'].astype(str).parallel_apply(extract_entities)"
   ]
  },
  {
   "cell_type": "code",
   "execution_count": 16,
   "id": "fc4c5478",
   "metadata": {},
   "outputs": [],
   "source": [
    "# df['LOCATION_GPE'] = df['LOCATION'].astype(str).parallel_apply(extract_entities)"
   ]
  },
  {
   "cell_type": "code",
   "execution_count": 17,
   "id": "f18a7268",
   "metadata": {},
   "outputs": [
    {
     "ename": "NameError",
     "evalue": "name 'extract_entities' is not defined",
     "output_type": "error",
     "traceback": [
      "\u001b[0;31m---------------------------------------------------------------------------\u001b[0m",
      "\u001b[0;31mNameError\u001b[0m                                 Traceback (most recent call last)",
      "\u001b[0;32m/tmp/ipykernel_3134639/2624046911.py\u001b[0m in \u001b[0;36m<module>\u001b[0;34m\u001b[0m\n\u001b[0;32m----> 1\u001b[0;31m \u001b[0mdf\u001b[0m\u001b[0;34m[\u001b[0m\u001b[0;34m'NAME_PERSON'\u001b[0m\u001b[0;34m]\u001b[0m \u001b[0;34m=\u001b[0m \u001b[0mdf\u001b[0m\u001b[0;34m[\u001b[0m\u001b[0;34m'NAME'\u001b[0m\u001b[0;34m]\u001b[0m\u001b[0;34m.\u001b[0m\u001b[0mastype\u001b[0m\u001b[0;34m(\u001b[0m\u001b[0mstr\u001b[0m\u001b[0;34m)\u001b[0m\u001b[0;34m.\u001b[0m\u001b[0mparallel_apply\u001b[0m\u001b[0;34m(\u001b[0m\u001b[0mextract_entities\u001b[0m\u001b[0;34m)\u001b[0m\u001b[0;34m\u001b[0m\u001b[0;34m\u001b[0m\u001b[0m\n\u001b[0m",
      "\u001b[0;31mNameError\u001b[0m: name 'extract_entities' is not defined"
     ]
    }
   ],
   "source": [
    "# df['NAME_PERSON'] = df['NAME'].astype(str).parallel_apply(extract_entities)"
   ]
  },
  {
   "cell_type": "markdown",
   "id": "6ba5f0b2",
   "metadata": {},
   "source": [
    "Compare the entity type of each record to the entity type of its column"
   ]
  },
  {
   "cell_type": "code",
   "execution_count": null,
   "id": "349d9226",
   "metadata": {},
   "outputs": [],
   "source": [
    "# df['AGENCY_ORG'].astype(str).str.contains(\"ORG\") \\\n",
    "# .value_counts().plot(kind = 'barh', title='AGENCY contains ORG label');"
   ]
  },
  {
   "cell_type": "code",
   "execution_count": null,
   "id": "9b6a24f3",
   "metadata": {},
   "outputs": [],
   "source": [
    "# df['AMOUNT_MONEY'].astype(str).str.contains(\"MONEY\") \\\n",
    "# .value_counts().plot(kind = 'barh', title='AMOUNT contains MONEY label');"
   ]
  },
  {
   "cell_type": "code",
   "execution_count": null,
   "id": "3f65b532",
   "metadata": {},
   "outputs": [],
   "source": [
    "# df['LOCATION_GPE'].astype(str).str.contains(\"GPE\") \\\n",
    "# .value_counts().plot(kind = 'barh', title='LOCATION contains GPE label');"
   ]
  },
  {
   "cell_type": "code",
   "execution_count": null,
   "id": "1dfc9fd0",
   "metadata": {},
   "outputs": [],
   "source": [
    "# df['NAME_PERSON'].astype(str).str.contains(\"PERSON\") \\\n",
    "# .value_counts().plot(kind = 'barh', title='NAME contains PERSON label');"
   ]
  },
  {
   "cell_type": "code",
   "execution_count": null,
   "id": "a73b7798",
   "metadata": {},
   "outputs": [],
   "source": [
    "# df.to_csv('/nfs/turbo/isr-jtalexnonsen/extracts/flat_images_all_NER.csv', index=False)"
   ]
  },
  {
   "cell_type": "code",
   "execution_count": null,
   "id": "545c762d",
   "metadata": {},
   "outputs": [],
   "source": []
  }
 ],
 "metadata": {
  "kernelspec": {
   "display_name": "Python 3 (ipykernel)",
   "language": "python",
   "name": "python3"
  },
  "language_info": {
   "codemirror_mode": {
    "name": "ipython",
    "version": 3
   },
   "file_extension": ".py",
   "mimetype": "text/x-python",
   "name": "python",
   "nbconvert_exporter": "python",
   "pygments_lexer": "ipython3",
   "version": "3.9.7"
  }
 },
 "nbformat": 4,
 "nbformat_minor": 5
}
