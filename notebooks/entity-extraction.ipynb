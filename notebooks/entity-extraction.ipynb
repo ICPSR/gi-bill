{
 "cells": [
  {
   "cell_type": "markdown",
   "id": "6519493c",
   "metadata": {},
   "source": [
    "# Entity extraction\n",
    "Run spaCy NER out of the box on OCR text from card scans. Compare the extracted entities to RegEx and LayoutParser.\n",
    "\n",
    "Mappings - expected entity type for each column\n",
    "- AGENCY :: `ORG`\n",
    "- AMOUNT :: `MONEY`\n",
    "- LOCATION :: `LOC`\n",
    "- NAME :: `PERSON`"
   ]
  },
  {
   "cell_type": "code",
   "execution_count": 1,
   "id": "74165037",
   "metadata": {},
   "outputs": [],
   "source": [
    "import os\n",
    "import glob\n",
    "import re\n",
    "import pandas as pd\n",
    "import spacy\n",
    "from spacy import displacy\n",
    "import en_core_web_sm\n",
    "from pandarallel import pandarallel"
   ]
  },
  {
   "cell_type": "code",
   "execution_count": 2,
   "id": "55761c85",
   "metadata": {},
   "outputs": [
    {
     "name": "stdout",
     "output_type": "stream",
     "text": [
      "3.1.1\n"
     ]
    }
   ],
   "source": [
    "print(spacy.__version__)"
   ]
  },
  {
   "cell_type": "code",
   "execution_count": 3,
   "id": "bf48088f",
   "metadata": {},
   "outputs": [],
   "source": [
    "nlp = en_core_web_sm.load()"
   ]
  },
  {
   "cell_type": "code",
   "execution_count": 4,
   "id": "39328b93",
   "metadata": {},
   "outputs": [
    {
     "name": "stdout",
     "output_type": "stream",
     "text": [
      "INFO: Pandarallel will run on 4 workers.\n",
      "INFO: Pandarallel will use standard multiprocessing data transfer (pipe) to transfer data between the main process and workers.\n"
     ]
    }
   ],
   "source": [
    "pandarallel.initialize(progress_bar=True)"
   ]
  },
  {
   "cell_type": "markdown",
   "id": "1282e14b",
   "metadata": {},
   "source": [
    "Demonstrating that the format of the input text impacts the NER output"
   ]
  },
  {
   "cell_type": "code",
   "execution_count": 5,
   "id": "06041406",
   "metadata": {},
   "outputs": [
    {
     "name": "stdout",
     "output_type": "stream",
     "text": [
      "Aaron, Samuel H. and Pearl C. LHG~L0124 Wichita, Kansas $9,000. CC-64 Kansas City Agency  The Reserve Building & Loan Association Wichita, Kansas  (VA) FIRST MORTGAGE LOAN GUARANTEED \n"
     ]
    }
   ],
   "source": [
    "test_1 = \"\"\"Aaron, Samuel H. and Pearl C. LHG~L0124 Wichita, Kansas $9,000. CC-64 Kansas City Agency  The Reserve Building & Loan Association Wichita, Kansas  (VA) FIRST MORTGAGE LOAN GUARANTEED \"\"\"\n",
    "print(test_1)"
   ]
  },
  {
   "cell_type": "code",
   "execution_count": 6,
   "id": "a2915111",
   "metadata": {},
   "outputs": [
    {
     "name": "stdout",
     "output_type": "stream",
     "text": [
      "Aaron, Samuel H. and Pearl C. LHG~L0124\n",
      "Wichita, Kansas $9,000.\n",
      "CC-64\n",
      "Kansas City Agency\n",
      "\n",
      "The Reserve Building & Loan Association\n",
      "Wichita, Kansas\n",
      "\n",
      "(VA)\n",
      "FIRST MORTGAGE LOAN GUARANTEED\n"
     ]
    }
   ],
   "source": [
    "test_2 = \"\"\"Aaron, Samuel H. and Pearl C. LHG~L0124\n",
    "Wichita, Kansas $9,000.\n",
    "CC-64\n",
    "Kansas City Agency\n",
    "\n",
    "The Reserve Building & Loan Association\n",
    "Wichita, Kansas\n",
    "\n",
    "(VA)\n",
    "FIRST MORTGAGE LOAN GUARANTEED\"\"\"\n",
    "print(test_2)"
   ]
  },
  {
   "cell_type": "code",
   "execution_count": 7,
   "id": "815976f6",
   "metadata": {},
   "outputs": [
    {
     "name": "stdout",
     "output_type": "stream",
     "text": [
      "Aaron, Samuel H. and Pearl C. LHG~L0124 Wichita, Kansas $9,000. CC-64 Kansas City Agency  The Reserve Building & Loan Association Wichita, Kansas  (VA) FIRST MORTGAGE LOAN GUARANTEED \n"
     ]
    },
    {
     "data": {
      "text/html": [
       "<span class=\"tex2jax_ignore\"><div class=\"entities\" style=\"line-height: 2.5; direction: ltr\">\n",
       "<mark class=\"entity\" style=\"background: #aa9cfc; padding: 0.45em 0.6em; margin: 0 0.25em; line-height: 1; border-radius: 0.35em;\">\n",
       "    Aaron\n",
       "    <span style=\"font-size: 0.8em; font-weight: bold; line-height: 1; border-radius: 0.35em; vertical-align: middle; margin-left: 0.5rem\">PERSON</span>\n",
       "</mark>\n",
       ", \n",
       "<mark class=\"entity\" style=\"background: #aa9cfc; padding: 0.45em 0.6em; margin: 0 0.25em; line-height: 1; border-radius: 0.35em;\">\n",
       "    Samuel H.\n",
       "    <span style=\"font-size: 0.8em; font-weight: bold; line-height: 1; border-radius: 0.35em; vertical-align: middle; margin-left: 0.5rem\">PERSON</span>\n",
       "</mark>\n",
       " and \n",
       "<mark class=\"entity\" style=\"background: #aa9cfc; padding: 0.45em 0.6em; margin: 0 0.25em; line-height: 1; border-radius: 0.35em;\">\n",
       "    Pearl C. LHG\n",
       "    <span style=\"font-size: 0.8em; font-weight: bold; line-height: 1; border-radius: 0.35em; vertical-align: middle; margin-left: 0.5rem\">PERSON</span>\n",
       "</mark>\n",
       "~\n",
       "<mark class=\"entity\" style=\"background: #aa9cfc; padding: 0.45em 0.6em; margin: 0 0.25em; line-height: 1; border-radius: 0.35em;\">\n",
       "    L0124 Wichita\n",
       "    <span style=\"font-size: 0.8em; font-weight: bold; line-height: 1; border-radius: 0.35em; vertical-align: middle; margin-left: 0.5rem\">PERSON</span>\n",
       "</mark>\n",
       ", \n",
       "<mark class=\"entity\" style=\"background: #feca74; padding: 0.45em 0.6em; margin: 0 0.25em; line-height: 1; border-radius: 0.35em;\">\n",
       "    Kansas\n",
       "    <span style=\"font-size: 0.8em; font-weight: bold; line-height: 1; border-radius: 0.35em; vertical-align: middle; margin-left: 0.5rem\">GPE</span>\n",
       "</mark>\n",
       " $\n",
       "<mark class=\"entity\" style=\"background: #e4e7d2; padding: 0.45em 0.6em; margin: 0 0.25em; line-height: 1; border-radius: 0.35em;\">\n",
       "    9,000\n",
       "    <span style=\"font-size: 0.8em; font-weight: bold; line-height: 1; border-radius: 0.35em; vertical-align: middle; margin-left: 0.5rem\">MONEY</span>\n",
       "</mark>\n",
       ". \n",
       "<mark class=\"entity\" style=\"background: #7aecec; padding: 0.45em 0.6em; margin: 0 0.25em; line-height: 1; border-radius: 0.35em;\">\n",
       "    CC-64 Kansas City Agency\n",
       "    <span style=\"font-size: 0.8em; font-weight: bold; line-height: 1; border-radius: 0.35em; vertical-align: middle; margin-left: 0.5rem\">ORG</span>\n",
       "</mark>\n",
       "  The Reserve Building &amp; Loan Association \n",
       "<mark class=\"entity\" style=\"background: #feca74; padding: 0.45em 0.6em; margin: 0 0.25em; line-height: 1; border-radius: 0.35em;\">\n",
       "    Wichita\n",
       "    <span style=\"font-size: 0.8em; font-weight: bold; line-height: 1; border-radius: 0.35em; vertical-align: middle; margin-left: 0.5rem\">GPE</span>\n",
       "</mark>\n",
       ", \n",
       "<mark class=\"entity\" style=\"background: #feca74; padding: 0.45em 0.6em; margin: 0 0.25em; line-height: 1; border-radius: 0.35em;\">\n",
       "    Kansas\n",
       "    <span style=\"font-size: 0.8em; font-weight: bold; line-height: 1; border-radius: 0.35em; vertical-align: middle; margin-left: 0.5rem\">GPE</span>\n",
       "</mark>\n",
       "  (VA) FIRST MORTGAGE LOAN GUARANTEED </div></span>"
      ],
      "text/plain": [
       "<IPython.core.display.HTML object>"
      ]
     },
     "metadata": {},
     "output_type": "display_data"
    }
   ],
   "source": [
    "print(test_1)\n",
    "doc_1 = nlp(test_1)\n",
    "displacy.render(doc_1, style='ent')"
   ]
  },
  {
   "cell_type": "code",
   "execution_count": 8,
   "id": "919f4b4d",
   "metadata": {},
   "outputs": [
    {
     "name": "stdout",
     "output_type": "stream",
     "text": [
      "Aaron, Samuel H. and Pearl C. LHG~L0124\n",
      "Wichita, Kansas $9,000.\n",
      "CC-64\n",
      "Kansas City Agency\n",
      "\n",
      "The Reserve Building & Loan Association\n",
      "Wichita, Kansas\n",
      "\n",
      "(VA)\n",
      "FIRST MORTGAGE LOAN GUARANTEED\n"
     ]
    },
    {
     "data": {
      "text/html": [
       "<span class=\"tex2jax_ignore\"><div class=\"entities\" style=\"line-height: 2.5; direction: ltr\">\n",
       "<mark class=\"entity\" style=\"background: #aa9cfc; padding: 0.45em 0.6em; margin: 0 0.25em; line-height: 1; border-radius: 0.35em;\">\n",
       "    Aaron\n",
       "    <span style=\"font-size: 0.8em; font-weight: bold; line-height: 1; border-radius: 0.35em; vertical-align: middle; margin-left: 0.5rem\">PERSON</span>\n",
       "</mark>\n",
       ", \n",
       "<mark class=\"entity\" style=\"background: #aa9cfc; padding: 0.45em 0.6em; margin: 0 0.25em; line-height: 1; border-radius: 0.35em;\">\n",
       "    Samuel H.\n",
       "    <span style=\"font-size: 0.8em; font-weight: bold; line-height: 1; border-radius: 0.35em; vertical-align: middle; margin-left: 0.5rem\">PERSON</span>\n",
       "</mark>\n",
       " and \n",
       "<mark class=\"entity\" style=\"background: #aa9cfc; padding: 0.45em 0.6em; margin: 0 0.25em; line-height: 1; border-radius: 0.35em;\">\n",
       "    Pearl C. LHG\n",
       "    <span style=\"font-size: 0.8em; font-weight: bold; line-height: 1; border-radius: 0.35em; vertical-align: middle; margin-left: 0.5rem\">PERSON</span>\n",
       "</mark>\n",
       "~\n",
       "<mark class=\"entity\" style=\"background: #aa9cfc; padding: 0.45em 0.6em; margin: 0 0.25em; line-height: 1; border-radius: 0.35em;\">\n",
       "    L0124\n",
       "    <span style=\"font-size: 0.8em; font-weight: bold; line-height: 1; border-radius: 0.35em; vertical-align: middle; margin-left: 0.5rem\">PERSON</span>\n",
       "</mark>\n",
       "</br>\n",
       "<mark class=\"entity\" style=\"background: #feca74; padding: 0.45em 0.6em; margin: 0 0.25em; line-height: 1; border-radius: 0.35em;\">\n",
       "    Wichita\n",
       "    <span style=\"font-size: 0.8em; font-weight: bold; line-height: 1; border-radius: 0.35em; vertical-align: middle; margin-left: 0.5rem\">GPE</span>\n",
       "</mark>\n",
       ", \n",
       "<mark class=\"entity\" style=\"background: #feca74; padding: 0.45em 0.6em; margin: 0 0.25em; line-height: 1; border-radius: 0.35em;\">\n",
       "    Kansas\n",
       "    <span style=\"font-size: 0.8em; font-weight: bold; line-height: 1; border-radius: 0.35em; vertical-align: middle; margin-left: 0.5rem\">GPE</span>\n",
       "</mark>\n",
       " $\n",
       "<mark class=\"entity\" style=\"background: #e4e7d2; padding: 0.45em 0.6em; margin: 0 0.25em; line-height: 1; border-radius: 0.35em;\">\n",
       "    9,000\n",
       "    <span style=\"font-size: 0.8em; font-weight: bold; line-height: 1; border-radius: 0.35em; vertical-align: middle; margin-left: 0.5rem\">MONEY</span>\n",
       "</mark>\n",
       ".</br>\n",
       "<mark class=\"entity\" style=\"background: #bfeeb7; padding: 0.45em 0.6em; margin: 0 0.25em; line-height: 1; border-radius: 0.35em;\">\n",
       "    CC-64\n",
       "    <span style=\"font-size: 0.8em; font-weight: bold; line-height: 1; border-radius: 0.35em; vertical-align: middle; margin-left: 0.5rem\">PRODUCT</span>\n",
       "</mark>\n",
       "</br>\n",
       "<mark class=\"entity\" style=\"background: #feca74; padding: 0.45em 0.6em; margin: 0 0.25em; line-height: 1; border-radius: 0.35em;\">\n",
       "    Kansas City Agency\n",
       "    <span style=\"font-size: 0.8em; font-weight: bold; line-height: 1; border-radius: 0.35em; vertical-align: middle; margin-left: 0.5rem\">GPE</span>\n",
       "</mark>\n",
       "</br></br>\n",
       "<mark class=\"entity\" style=\"background: #7aecec; padding: 0.45em 0.6em; margin: 0 0.25em; line-height: 1; border-radius: 0.35em;\">\n",
       "    The Reserve Building &amp; Loan Association\n",
       "    <span style=\"font-size: 0.8em; font-weight: bold; line-height: 1; border-radius: 0.35em; vertical-align: middle; margin-left: 0.5rem\">ORG</span>\n",
       "</mark>\n",
       "</br>\n",
       "<mark class=\"entity\" style=\"background: #feca74; padding: 0.45em 0.6em; margin: 0 0.25em; line-height: 1; border-radius: 0.35em;\">\n",
       "    Wichita\n",
       "    <span style=\"font-size: 0.8em; font-weight: bold; line-height: 1; border-radius: 0.35em; vertical-align: middle; margin-left: 0.5rem\">GPE</span>\n",
       "</mark>\n",
       ", \n",
       "<mark class=\"entity\" style=\"background: #feca74; padding: 0.45em 0.6em; margin: 0 0.25em; line-height: 1; border-radius: 0.35em;\">\n",
       "    Kansas\n",
       "    <span style=\"font-size: 0.8em; font-weight: bold; line-height: 1; border-radius: 0.35em; vertical-align: middle; margin-left: 0.5rem\">GPE</span>\n",
       "</mark>\n",
       "</br></br>(\n",
       "<mark class=\"entity\" style=\"background: #feca74; padding: 0.45em 0.6em; margin: 0 0.25em; line-height: 1; border-radius: 0.35em;\">\n",
       "    VA\n",
       "    <span style=\"font-size: 0.8em; font-weight: bold; line-height: 1; border-radius: 0.35em; vertical-align: middle; margin-left: 0.5rem\">GPE</span>\n",
       "</mark>\n",
       ")</br>FIRST MORTGAGE LOAN GUARANTEED</div></span>"
      ],
      "text/plain": [
       "<IPython.core.display.HTML object>"
      ]
     },
     "metadata": {},
     "output_type": "display_data"
    }
   ],
   "source": [
    "print(test_2)\n",
    "doc_2 = nlp(test_2)\n",
    "displacy.render(doc_2, style='ent')"
   ]
  },
  {
   "cell_type": "markdown",
   "id": "8857b480",
   "metadata": {},
   "source": [
    "Get the text from the file directory into a dataframe"
   ]
  },
  {
   "cell_type": "code",
   "execution_count": 9,
   "id": "14dcd89e",
   "metadata": {},
   "outputs": [
    {
     "name": "stdout",
     "output_type": "stream",
     "text": [
      "CPU times: user 1.04 s, sys: 2.73 s, total: 3.77 s\n",
      "Wall time: 12.4 s\n"
     ]
    },
    {
     "data": {
      "text/html": [
       "<div>\n",
       "<style scoped>\n",
       "    .dataframe tbody tr th:only-of-type {\n",
       "        vertical-align: middle;\n",
       "    }\n",
       "\n",
       "    .dataframe tbody tr th {\n",
       "        vertical-align: top;\n",
       "    }\n",
       "\n",
       "    .dataframe thead th {\n",
       "        text-align: right;\n",
       "    }\n",
       "</style>\n",
       "<table border=\"1\" class=\"dataframe\">\n",
       "  <thead>\n",
       "    <tr style=\"text-align: right;\">\n",
       "      <th></th>\n",
       "      <th>file_name</th>\n",
       "      <th>file_content</th>\n",
       "    </tr>\n",
       "  </thead>\n",
       "  <tbody>\n",
       "    <tr>\n",
       "      <th>0</th>\n",
       "      <td>783095-01-0001.txt</td>\n",
       "      <td>Aaron, Samuel H. and Pearl C. LHG~L0124\\nWichi...</td>\n",
       "    </tr>\n",
       "    <tr>\n",
       "      <th>1</th>\n",
       "      <td>783095-01-0002.txt</td>\n",
       "      <td>\\n</td>\n",
       "    </tr>\n",
       "    <tr>\n",
       "      <th>2</th>\n",
       "      <td>783095-01-0003.txt</td>\n",
       "      <td>Abbenga, Arnold N, &amp; Geraldine LH-31228\\nDetro...</td>\n",
       "    </tr>\n",
       "    <tr>\n",
       "      <th>3</th>\n",
       "      <td>783095-01-0004.txt</td>\n",
       "      <td>Abbey, Leonard Ray and Barbara Joan, LE-6746\\n...</td>\n",
       "    </tr>\n",
       "    <tr>\n",
       "      <th>4</th>\n",
       "      <td>783095-01-0005.txt</td>\n",
       "      <td>Abbey, Newton Warren\\nAtlanta, Ga.\\n\\nRoy D. W...</td>\n",
       "    </tr>\n",
       "    <tr>\n",
       "      <th>...</th>\n",
       "      <td>...</td>\n",
       "      <td>...</td>\n",
       "    </tr>\n",
       "    <tr>\n",
       "      <th>25739</th>\n",
       "      <td>783095-23-0261.txt</td>\n",
       "      <td>Zvolanek, Harry &amp; Ruby M. LHG-9598\\nWichita, K...</td>\n",
       "    </tr>\n",
       "    <tr>\n",
       "      <th>25740</th>\n",
       "      <td>783095-23-0262.txt</td>\n",
       "      <td>Zwijac, Walter C, &amp; Sara A, LH-3293\\nHammond, ...</td>\n",
       "    </tr>\n",
       "    <tr>\n",
       "      <th>25741</th>\n",
       "      <td>783095-23-0263.txt</td>\n",
       "      <td>Zwinklis, Victor C. LHG-7715\\nBaltimore, Md. $...</td>\n",
       "    </tr>\n",
       "    <tr>\n",
       "      <th>25742</th>\n",
       "      <td>783095-23-0264.txt</td>\n",
       "      <td>Zygler, Francis H, &amp; Margaret T. CC-162\\nPerth...</td>\n",
       "    </tr>\n",
       "    <tr>\n",
       "      <th>25743</th>\n",
       "      <td>783095-23-0265.txt</td>\n",
       "      <td>Zygner, Aloysius D, &amp; Mary LH-33945\\nVan Dyke,...</td>\n",
       "    </tr>\n",
       "  </tbody>\n",
       "</table>\n",
       "<p>25744 rows × 2 columns</p>\n",
       "</div>"
      ],
      "text/plain": [
       "                file_name                                       file_content\n",
       "0      783095-01-0001.txt  Aaron, Samuel H. and Pearl C. LHG~L0124\\nWichi...\n",
       "1      783095-01-0002.txt                                                 \\n\n",
       "2      783095-01-0003.txt  Abbenga, Arnold N, & Geraldine LH-31228\\nDetro...\n",
       "3      783095-01-0004.txt  Abbey, Leonard Ray and Barbara Joan, LE-6746\\n...\n",
       "4      783095-01-0005.txt  Abbey, Newton Warren\\nAtlanta, Ga.\\n\\nRoy D. W...\n",
       "...                   ...                                                ...\n",
       "25739  783095-23-0261.txt  Zvolanek, Harry & Ruby M. LHG-9598\\nWichita, K...\n",
       "25740  783095-23-0262.txt  Zwijac, Walter C, & Sara A, LH-3293\\nHammond, ...\n",
       "25741  783095-23-0263.txt  Zwinklis, Victor C. LHG-7715\\nBaltimore, Md. $...\n",
       "25742  783095-23-0264.txt  Zygler, Francis H, & Margaret T. CC-162\\nPerth...\n",
       "25743  783095-23-0265.txt  Zygner, Aloysius D, & Mary LH-33945\\nVan Dyke,...\n",
       "\n",
       "[25744 rows x 2 columns]"
      ]
     },
     "execution_count": 9,
     "metadata": {},
     "output_type": "execute_result"
    }
   ],
   "source": [
    "%%time\n",
    "\n",
    "# txt_files = sorted(glob.glob('/nfs/turbo/isr-jtalexnonsen/tesseract_txt/'+'/*.txt')) # TURBO\n",
    "txt_files = sorted(glob.glob('/Users/slafia/Documents/layout-parser/tesseract_txt/'+'/*.txt')) # LOCAL\n",
    "# txt_files = txt_files[:10] # subset for testing\n",
    "\n",
    "name_list = []\n",
    "content_list = []\n",
    "\n",
    "for file in txt_files:\n",
    "    name = os.path.basename(file)\n",
    "    name_list.append(name)\n",
    "    with open(file) as f:\n",
    "#         content = f.read().replace('\\n',' ') # replace new line character with a space\n",
    "        content = f.read()\n",
    "        content_list.append(content)\n",
    "           \n",
    "df = pd.DataFrame()\n",
    "df['file_name'] = name_list\n",
    "df['file_content'] = content_list\n",
    "df"
   ]
  },
  {
   "cell_type": "code",
   "execution_count": 10,
   "id": "e2a7c060",
   "metadata": {
    "scrolled": false
   },
   "outputs": [],
   "source": [
    "def extract_org(text):\n",
    "    doc = nlp(text)\n",
    "    results = [(ent.text) for ent in doc.ents if ent.label_ == 'ORG']\n",
    "    return results\n",
    "\n",
    "def extract_money(text):\n",
    "    doc = nlp(text)\n",
    "    results = [(ent.text) for ent in doc.ents if ent.label_ == 'MONEY']\n",
    "    return results\n",
    "\n",
    "def extract_loc(text):\n",
    "    doc = nlp(text)\n",
    "    results = [(ent.text) for ent in doc.ents if ent.label_ == 'GPE']\n",
    "#     results = [(ent.text) for ent in doc.ents if (ent.label_ == 'LOC' or ent.label_ == 'GPE')]\n",
    "    return results\n",
    "\n",
    "def extract_person(text):\n",
    "    doc = nlp(text)\n",
    "    results = [(ent.text) for ent in doc.ents if ent.label_ == 'PERSON']\n",
    "    return results\n",
    "\n",
    "def extract_id(text):\n",
    "    doc = nlp(text)\n",
    "    results = [(ent.text) for ent in doc.ents if ent.label_ == 'PRODUCT']\n",
    "    return results"
   ]
  },
  {
   "cell_type": "code",
   "execution_count": 11,
   "id": "570e263b",
   "metadata": {},
   "outputs": [
    {
     "data": {
      "application/vnd.jupyter.widget-view+json": {
       "model_id": "504fed2bb01e434e8f56192fb5621337",
       "version_major": 2,
       "version_minor": 0
      },
      "text/plain": [
       "VBox(children=(HBox(children=(IntProgress(value=0, description='0.00%', max=6436), Label(value='0 / 6436'))), …"
      ]
     },
     "metadata": {},
     "output_type": "display_data"
    }
   ],
   "source": [
    "df['AGENCY'] = df['file_content'].parallel_apply(extract_org)"
   ]
  },
  {
   "cell_type": "code",
   "execution_count": 12,
   "id": "8304695d",
   "metadata": {},
   "outputs": [
    {
     "data": {
      "application/vnd.jupyter.widget-view+json": {
       "model_id": "676893025fe4493f9c7882dbc788780f",
       "version_major": 2,
       "version_minor": 0
      },
      "text/plain": [
       "VBox(children=(HBox(children=(IntProgress(value=0, description='0.00%', max=6436), Label(value='0 / 6436'))), …"
      ]
     },
     "metadata": {},
     "output_type": "display_data"
    }
   ],
   "source": [
    "df['AMOUNT'] = df['file_content'].parallel_apply(extract_money)"
   ]
  },
  {
   "cell_type": "code",
   "execution_count": 13,
   "id": "a753d17b",
   "metadata": {},
   "outputs": [
    {
     "data": {
      "application/vnd.jupyter.widget-view+json": {
       "model_id": "d443032e30654c53baddc246c32a7e4d",
       "version_major": 2,
       "version_minor": 0
      },
      "text/plain": [
       "VBox(children=(HBox(children=(IntProgress(value=0, description='0.00%', max=6436), Label(value='0 / 6436'))), …"
      ]
     },
     "metadata": {},
     "output_type": "display_data"
    }
   ],
   "source": [
    "df['ID'] = df['file_content'].parallel_apply(extract_id)"
   ]
  },
  {
   "cell_type": "code",
   "execution_count": 14,
   "id": "40f8ba57",
   "metadata": {},
   "outputs": [
    {
     "data": {
      "application/vnd.jupyter.widget-view+json": {
       "model_id": "1b1a1b731332431a871190bff0a70bbb",
       "version_major": 2,
       "version_minor": 0
      },
      "text/plain": [
       "VBox(children=(HBox(children=(IntProgress(value=0, description='0.00%', max=6436), Label(value='0 / 6436'))), …"
      ]
     },
     "metadata": {},
     "output_type": "display_data"
    }
   ],
   "source": [
    "df['LOCATION'] = df['file_content'].parallel_apply(extract_loc)"
   ]
  },
  {
   "cell_type": "code",
   "execution_count": 15,
   "id": "f9d0847f",
   "metadata": {},
   "outputs": [
    {
     "data": {
      "application/vnd.jupyter.widget-view+json": {
       "model_id": "478ee7429fd64912b57081a4d6c5a7b5",
       "version_major": 2,
       "version_minor": 0
      },
      "text/plain": [
       "VBox(children=(HBox(children=(IntProgress(value=0, description='0.00%', max=6436), Label(value='0 / 6436'))), …"
      ]
     },
     "metadata": {},
     "output_type": "display_data"
    }
   ],
   "source": [
    "df['NAME'] = df['file_content'].parallel_apply(extract_person)"
   ]
  },
  {
   "cell_type": "code",
   "execution_count": 16,
   "id": "f56924d5",
   "metadata": {},
   "outputs": [
    {
     "data": {
      "text/html": [
       "<div>\n",
       "<style scoped>\n",
       "    .dataframe tbody tr th:only-of-type {\n",
       "        vertical-align: middle;\n",
       "    }\n",
       "\n",
       "    .dataframe tbody tr th {\n",
       "        vertical-align: top;\n",
       "    }\n",
       "\n",
       "    .dataframe thead th {\n",
       "        text-align: right;\n",
       "    }\n",
       "</style>\n",
       "<table border=\"1\" class=\"dataframe\">\n",
       "  <thead>\n",
       "    <tr style=\"text-align: right;\">\n",
       "      <th></th>\n",
       "      <th>file_name</th>\n",
       "      <th>file_content</th>\n",
       "      <th>AGENCY</th>\n",
       "      <th>AMOUNT</th>\n",
       "      <th>ID</th>\n",
       "      <th>LOCATION</th>\n",
       "      <th>NAME</th>\n",
       "    </tr>\n",
       "  </thead>\n",
       "  <tbody>\n",
       "    <tr>\n",
       "      <th>0</th>\n",
       "      <td>783095-01-0001.txt</td>\n",
       "      <td>Aaron, Samuel H. and Pearl C. LHG~L0124\\nWichi...</td>\n",
       "      <td>[The Reserve Building &amp; Loan Association]</td>\n",
       "      <td>[9,000]</td>\n",
       "      <td>[CC-64]</td>\n",
       "      <td>[Wichita, Kansas, Kansas City Agency, Wichita,...</td>\n",
       "      <td>[Aaron, Samuel H., Pearl C. LHG, L0124]</td>\n",
       "    </tr>\n",
       "    <tr>\n",
       "      <th>1</th>\n",
       "      <td>783095-01-0002.txt</td>\n",
       "      <td>\\n</td>\n",
       "      <td>[]</td>\n",
       "      <td>[]</td>\n",
       "      <td>[]</td>\n",
       "      <td>[]</td>\n",
       "      <td>[]</td>\n",
       "    </tr>\n",
       "    <tr>\n",
       "      <th>2</th>\n",
       "      <td>783095-01-0003.txt</td>\n",
       "      <td>Abbenga, Arnold N, &amp; Geraldine LH-31228\\nDetro...</td>\n",
       "      <td>[Abbenga, Arnold N, &amp; Geraldine LH-31228, Detr...</td>\n",
       "      <td>[4,100]</td>\n",
       "      <td>[]</td>\n",
       "      <td>[Detroit, Mich., Detroit]</td>\n",
       "      <td>[James T. Barnes &amp; Company, Mich]</td>\n",
       "    </tr>\n",
       "    <tr>\n",
       "      <th>3</th>\n",
       "      <td>783095-01-0004.txt</td>\n",
       "      <td>Abbey, Leonard Ray and Barbara Joan, LE-6746\\n...</td>\n",
       "      <td>[W. R. Johnston &amp; Co.]</td>\n",
       "      <td>[8,000]</td>\n",
       "      <td>[]</td>\n",
       "      <td>[Tulsa, Oklahoma, Oklahoma City, Oklahoma]</td>\n",
       "      <td>[Abbey, Leonard Ray, Barbara Joan]</td>\n",
       "    </tr>\n",
       "    <tr>\n",
       "      <th>4</th>\n",
       "      <td>783095-01-0005.txt</td>\n",
       "      <td>Abbey, Newton Warren\\nAtlanta, Ga.\\n\\nRoy D. W...</td>\n",
       "      <td>[Newton Warren, Roy D. Werren Co., Inc.]</td>\n",
       "      <td>[CC-78\\n$, 6,500]</td>\n",
       "      <td>[]</td>\n",
       "      <td>[Atlanta, Ga., Atlanta, Ga., Va]</td>\n",
       "      <td>[]</td>\n",
       "    </tr>\n",
       "    <tr>\n",
       "      <th>...</th>\n",
       "      <td>...</td>\n",
       "      <td>...</td>\n",
       "      <td>...</td>\n",
       "      <td>...</td>\n",
       "      <td>...</td>\n",
       "      <td>...</td>\n",
       "      <td>...</td>\n",
       "    </tr>\n",
       "    <tr>\n",
       "      <th>25739</th>\n",
       "      <td>783095-23-0261.txt</td>\n",
       "      <td>Zvolanek, Harry &amp; Ruby M. LHG-9598\\nWichita, K...</td>\n",
       "      <td>[Zvolanek,, Harry &amp; Ruby M. LHG-9598, Kans, Th...</td>\n",
       "      <td>[3,650]</td>\n",
       "      <td>[]</td>\n",
       "      <td>[Wichita, Coffeyville, Kans.]</td>\n",
       "      <td>[]</td>\n",
       "    </tr>\n",
       "    <tr>\n",
       "      <th>25740</th>\n",
       "      <td>783095-23-0262.txt</td>\n",
       "      <td>Zwijac, Walter C, &amp; Sara A, LH-3293\\nHammond, ...</td>\n",
       "      <td>[Irvin Jacobs &amp; Company]</td>\n",
       "      <td>[5,000]</td>\n",
       "      <td>[]</td>\n",
       "      <td>[Chicago, Ill., VA]</td>\n",
       "      <td>[Zwijac, Walter C]</td>\n",
       "    </tr>\n",
       "    <tr>\n",
       "      <th>25741</th>\n",
       "      <td>783095-23-0263.txt</td>\n",
       "      <td>Zwinklis, Victor C. LHG-7715\\nBaltimore, Md. $...</td>\n",
       "      <td>[Zwinklis, Victor C. LHG-7715, Richmond Agency...</td>\n",
       "      <td>[7]</td>\n",
       "      <td>[]</td>\n",
       "      <td>[Baltimore, Md., Baltimore, Md., VA]</td>\n",
       "      <td>[]</td>\n",
       "    </tr>\n",
       "    <tr>\n",
       "      <th>25742</th>\n",
       "      <td>783095-23-0264.txt</td>\n",
       "      <td>Zygler, Francis H, &amp; Margaret T. CC-162\\nPerth...</td>\n",
       "      <td>[Francis H, &amp;, New York Agency, Union County T...</td>\n",
       "      <td>[5,250]</td>\n",
       "      <td>[]</td>\n",
       "      <td>[]</td>\n",
       "      <td>[Margaret T., Perth Amboy, Elizabeth, N. J.\\n\\n]</td>\n",
       "    </tr>\n",
       "    <tr>\n",
       "      <th>25743</th>\n",
       "      <td>783095-23-0265.txt</td>\n",
       "      <td>Zygner, Aloysius D, &amp; Mary LH-33945\\nVan Dyke,...</td>\n",
       "      <td>[Aloysius D, &amp; Mary LH-33945, Detroit Agency -...</td>\n",
       "      <td>[6,000]</td>\n",
       "      <td>[]</td>\n",
       "      <td>[Detroit]</td>\n",
       "      <td>[Zygner, Van Dyke, Mich, Mich]</td>\n",
       "    </tr>\n",
       "  </tbody>\n",
       "</table>\n",
       "<p>25744 rows × 7 columns</p>\n",
       "</div>"
      ],
      "text/plain": [
       "                file_name                                       file_content  \\\n",
       "0      783095-01-0001.txt  Aaron, Samuel H. and Pearl C. LHG~L0124\\nWichi...   \n",
       "1      783095-01-0002.txt                                                 \\n   \n",
       "2      783095-01-0003.txt  Abbenga, Arnold N, & Geraldine LH-31228\\nDetro...   \n",
       "3      783095-01-0004.txt  Abbey, Leonard Ray and Barbara Joan, LE-6746\\n...   \n",
       "4      783095-01-0005.txt  Abbey, Newton Warren\\nAtlanta, Ga.\\n\\nRoy D. W...   \n",
       "...                   ...                                                ...   \n",
       "25739  783095-23-0261.txt  Zvolanek, Harry & Ruby M. LHG-9598\\nWichita, K...   \n",
       "25740  783095-23-0262.txt  Zwijac, Walter C, & Sara A, LH-3293\\nHammond, ...   \n",
       "25741  783095-23-0263.txt  Zwinklis, Victor C. LHG-7715\\nBaltimore, Md. $...   \n",
       "25742  783095-23-0264.txt  Zygler, Francis H, & Margaret T. CC-162\\nPerth...   \n",
       "25743  783095-23-0265.txt  Zygner, Aloysius D, & Mary LH-33945\\nVan Dyke,...   \n",
       "\n",
       "                                                  AGENCY             AMOUNT  \\\n",
       "0              [The Reserve Building & Loan Association]            [9,000]   \n",
       "1                                                     []                 []   \n",
       "2      [Abbenga, Arnold N, & Geraldine LH-31228, Detr...            [4,100]   \n",
       "3                                 [W. R. Johnston & Co.]            [8,000]   \n",
       "4               [Newton Warren, Roy D. Werren Co., Inc.]  [CC-78\\n$, 6,500]   \n",
       "...                                                  ...                ...   \n",
       "25739  [Zvolanek,, Harry & Ruby M. LHG-9598, Kans, Th...            [3,650]   \n",
       "25740                           [Irvin Jacobs & Company]            [5,000]   \n",
       "25741  [Zwinklis, Victor C. LHG-7715, Richmond Agency...                [7]   \n",
       "25742  [Francis H, &, New York Agency, Union County T...            [5,250]   \n",
       "25743  [Aloysius D, & Mary LH-33945, Detroit Agency -...            [6,000]   \n",
       "\n",
       "            ID                                           LOCATION  \\\n",
       "0      [CC-64]  [Wichita, Kansas, Kansas City Agency, Wichita,...   \n",
       "1           []                                                 []   \n",
       "2           []                          [Detroit, Mich., Detroit]   \n",
       "3           []         [Tulsa, Oklahoma, Oklahoma City, Oklahoma]   \n",
       "4           []                   [Atlanta, Ga., Atlanta, Ga., Va]   \n",
       "...        ...                                                ...   \n",
       "25739       []                      [Wichita, Coffeyville, Kans.]   \n",
       "25740       []                                [Chicago, Ill., VA]   \n",
       "25741       []               [Baltimore, Md., Baltimore, Md., VA]   \n",
       "25742       []                                                 []   \n",
       "25743       []                                          [Detroit]   \n",
       "\n",
       "                                                   NAME  \n",
       "0               [Aaron, Samuel H., Pearl C. LHG, L0124]  \n",
       "1                                                    []  \n",
       "2                     [James T. Barnes & Company, Mich]  \n",
       "3                    [Abbey, Leonard Ray, Barbara Joan]  \n",
       "4                                                    []  \n",
       "...                                                 ...  \n",
       "25739                                                []  \n",
       "25740                                [Zwijac, Walter C]  \n",
       "25741                                                []  \n",
       "25742  [Margaret T., Perth Amboy, Elizabeth, N. J.\\n\\n]  \n",
       "25743                    [Zygner, Van Dyke, Mich, Mich]  \n",
       "\n",
       "[25744 rows x 7 columns]"
      ]
     },
     "execution_count": 16,
     "metadata": {},
     "output_type": "execute_result"
    }
   ],
   "source": [
    "# df.to_csv('/nfs/turbo/isr-jtalexnonsen/extracts/tesseract_txt_NER.csv', index=False) # TURBO\n",
    "df.to_csv('/Users/slafia/Documents/layout-parser/tesseract_txt_NER.csv', index=False) # LOCAL\n",
    "df"
   ]
  },
  {
   "cell_type": "markdown",
   "id": "bbb153e5",
   "metadata": {},
   "source": [
    "Workflow for applying NER to Layout Parser output (already structured)"
   ]
  },
  {
   "cell_type": "code",
   "execution_count": 17,
   "id": "5e126b38",
   "metadata": {},
   "outputs": [],
   "source": [
    "# df = pd.read_csv('/nfs/turbo/isr-jtalexnonsen/extracts/flat_images_all.csv')\n",
    "# df.info()\n",
    "# df = df.sample(n=20) # subset for testing"
   ]
  },
  {
   "cell_type": "markdown",
   "id": "50a2837d",
   "metadata": {},
   "source": [
    "Look up the description of a label in spaCy"
   ]
  },
  {
   "cell_type": "code",
   "execution_count": 18,
   "id": "8d11d700",
   "metadata": {},
   "outputs": [],
   "source": [
    "# spacy.explain('ORG')"
   ]
  },
  {
   "cell_type": "code",
   "execution_count": 19,
   "id": "6c26f628",
   "metadata": {},
   "outputs": [],
   "source": [
    "# def extract_entities(text):\n",
    "#     \"\"\"\n",
    "#     If a cell contains one or more entities, extract and store each as a tuple in a new column\n",
    "#     \"\"\"\n",
    "#     doc = nlp(text)\n",
    "#     for ent in doc.ents:\n",
    "#         return ent.label_,ent.text"
   ]
  },
  {
   "cell_type": "code",
   "execution_count": 20,
   "id": "9cac38c4",
   "metadata": {},
   "outputs": [],
   "source": [
    "# df['AGENCY_ORG'] = df['AGENCY'].astype(str).parallel_apply(extract_entities)"
   ]
  },
  {
   "cell_type": "code",
   "execution_count": 21,
   "id": "046282b4",
   "metadata": {},
   "outputs": [],
   "source": [
    "# df['AMOUNT_MONEY'] = df['AMOUNT'].astype(str).parallel_apply(extract_entities)"
   ]
  },
  {
   "cell_type": "code",
   "execution_count": 22,
   "id": "fc4c5478",
   "metadata": {},
   "outputs": [],
   "source": [
    "# df['LOCATION_GPE'] = df['LOCATION'].astype(str).parallel_apply(extract_entities)"
   ]
  },
  {
   "cell_type": "code",
   "execution_count": 23,
   "id": "f18a7268",
   "metadata": {},
   "outputs": [],
   "source": [
    "# df['NAME_PERSON'] = df['NAME'].astype(str).parallel_apply(extract_entities)"
   ]
  },
  {
   "cell_type": "markdown",
   "id": "6ba5f0b2",
   "metadata": {},
   "source": [
    "Compare the entity type of each record to the entity type of its column"
   ]
  },
  {
   "cell_type": "code",
   "execution_count": 24,
   "id": "349d9226",
   "metadata": {},
   "outputs": [],
   "source": [
    "# df['AGENCY_ORG'].astype(str).str.contains(\"ORG\") \\\n",
    "# .value_counts().plot(kind = 'barh', title='AGENCY contains ORG label');"
   ]
  },
  {
   "cell_type": "code",
   "execution_count": 25,
   "id": "9b6a24f3",
   "metadata": {},
   "outputs": [],
   "source": [
    "# df['AMOUNT_MONEY'].astype(str).str.contains(\"MONEY\") \\\n",
    "# .value_counts().plot(kind = 'barh', title='AMOUNT contains MONEY label');"
   ]
  },
  {
   "cell_type": "code",
   "execution_count": 26,
   "id": "3f65b532",
   "metadata": {},
   "outputs": [],
   "source": [
    "# df['LOCATION_GPE'].astype(str).str.contains(\"GPE\") \\\n",
    "# .value_counts().plot(kind = 'barh', title='LOCATION contains GPE label');"
   ]
  },
  {
   "cell_type": "code",
   "execution_count": 27,
   "id": "1dfc9fd0",
   "metadata": {},
   "outputs": [],
   "source": [
    "# df['NAME_PERSON'].astype(str).str.contains(\"PERSON\") \\\n",
    "# .value_counts().plot(kind = 'barh', title='NAME contains PERSON label');"
   ]
  },
  {
   "cell_type": "code",
   "execution_count": 28,
   "id": "a73b7798",
   "metadata": {},
   "outputs": [],
   "source": [
    "# df.to_csv('/nfs/turbo/isr-jtalexnonsen/extracts/flat_images_all_NER.csv', index=False)"
   ]
  },
  {
   "cell_type": "code",
   "execution_count": null,
   "id": "545c762d",
   "metadata": {},
   "outputs": [],
   "source": []
  }
 ],
 "metadata": {
  "kernelspec": {
   "display_name": "Python 3 (ipykernel)",
   "language": "python",
   "name": "python3"
  },
  "language_info": {
   "codemirror_mode": {
    "name": "ipython",
    "version": 3
   },
   "file_extension": ".py",
   "mimetype": "text/x-python",
   "name": "python",
   "nbconvert_exporter": "python",
   "pygments_lexer": "ipython3",
   "version": "3.9.15"
  }
 },
 "nbformat": 4,
 "nbformat_minor": 5
}
